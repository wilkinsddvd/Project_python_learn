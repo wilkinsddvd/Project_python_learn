{
 "cells": [
  {
   "cell_type": "code",
   "id": "initial_id",
   "metadata": {
    "collapsed": true,
    "ExecuteTime": {
     "end_time": "2024-10-15T13:39:27.005011Z",
     "start_time": "2024-10-15T13:39:26.113342Z"
    }
   },
   "source": [
    "# 导入必要的库\n",
    "import torch\n",
    "import torch.nn as nn\n",
    "import torch.optim as optim\n",
    "import numpy as np\n",
    "import matplotlib.pyplot as plt\n",
    "\n",
    "# 设置随机种子以确保结果可重复\n",
    "def set_seed(seed):\n",
    "    np.random.seed(seed)\n",
    "    torch.manual_seed(seed)\n",
    "\n",
    "# 生成随机数据\n",
    "def generate_data(n_samples=100, x_range=(-1, 1), noise_std=1):\n",
    "    x = np.linspace(x_range[0], x_range[1], n_samples).reshape(-1, 1)\n",
    "    noise = np.random.normal(0, noise_std, (n_samples, 1))\n",
    "    y = 2 * x + 3 + noise\n",
    "    return torch.tensor(x, dtype=torch.float32), torch.tensor(y, dtype=torch.float32)\n",
    "\n",
    "# 定义线性回归模型\n",
    "class LinearRegressionModel(nn.Module):\n",
    "    def __init__(self):\n",
    "        super(LinearRegressionModel, self).__init__()\n",
    "        self.linear = nn.Linear(1, 1)\n",
    "\n",
    "    def forward(self, x):\n",
    "        return self.linear(x)\n",
    "\n",
    "# 训练模型\n",
    "def train_model(model, x, y, learning_rate=0.01, num_epochs=1000, early_stopping_patience=50):\n",
    "    criterion = nn.MSELoss()\n",
    "    optimizer = optim.SGD(model.parameters(), lr=learning_rate)\n",
    "    best_loss = float('inf')\n",
    "    no_improve_epochs = 0\n",
    "    \n",
    "    for epoch in range(num_epochs):\n",
    "        model.train()\n",
    "        optimizer.zero_grad()\n",
    "        outputs = model(x)\n",
    "        loss = criterion(outputs, y)\n",
    "        loss.backward()\n",
    "        optimizer.step()\n",
    "        \n",
    "        if epoch % 100 == 0:\n",
    "            print(f'Epoch [{epoch+1}/{num_epochs}], Loss: {loss.item():.4f}')\n",
    "            \n",
    "        # Early stopping\n",
    "        if loss.item() < best_loss:\n",
    "            best_loss = loss.item()\n",
    "            no_improve_epochs = 0\n",
    "        else:\n",
    "            no_improve_epochs += 1\n",
    "            if no_improve_epochs >= early_stopping_patience:\n",
    "                print(f'Early stopping at epoch {epoch+1}')\n",
    "                break\n",
    "\n",
    "# 绘制拟合曲线\n",
    "def plot_results(x, y, model):\n",
    "    model.eval()\n",
    "    with torch.no_grad():\n",
    "        predictions = model(x).numpy()\n",
    "    plt.scatter(x.numpy(), y.numpy(), label='Data')\n",
    "    plt.plot(x.numpy(), predictions, color='red', label='Fitted line')\n",
    "    plt.title('Linear Regression Fit')\n",
    "    plt.xlabel('x')\n",
    "    plt.ylabel('y')\n",
    "    plt.legend()\n",
    "    plt.show()\n",
    "\n",
    "# 主函数\n",
    "def main():\n",
    "    set_seed(0)\n",
    "    x, y = generate_data()\n",
    "    model = LinearRegressionModel()\n",
    "    train_model(model, x, y, learning_rate=0.01, num_epochs=100000)\n",
    "    plot_results(x, y, model)\n",
    "\n",
    "# 运行主函数\n",
    "if __name__ == \"__main__\":\n",
    "    main()"
   ],
   "outputs": [
    {
     "name": "stdout",
     "output_type": "stream",
     "text": [
      "Epoch [1/100000], Loss: 8.5507\n",
      "Epoch [101/100000], Loss: 1.4204\n",
      "Epoch [201/100000], Loss: 1.0869\n",
      "Epoch [301/100000], Loss: 1.0279\n",
      "Epoch [401/100000], Loss: 1.0133\n",
      "Epoch [501/100000], Loss: 1.0096\n",
      "Epoch [601/100000], Loss: 1.0086\n",
      "Epoch [701/100000], Loss: 1.0084\n",
      "Epoch [801/100000], Loss: 1.0083\n",
      "Epoch [901/100000], Loss: 1.0083\n",
      "Epoch [1001/100000], Loss: 1.0083\n",
      "Epoch [1101/100000], Loss: 1.0083\n",
      "Early stopping at epoch 1191\n"
     ]
    },
    {
     "ename": "RuntimeError",
     "evalue": "Numpy is not available",
     "output_type": "error",
     "traceback": [
      "\u001B[1;31m---------------------------------------------------------------------------\u001B[0m",
      "\u001B[1;31mRuntimeError\u001B[0m                              Traceback (most recent call last)",
      "Cell \u001B[1;32mIn[9], line 80\u001B[0m\n\u001B[0;32m     78\u001B[0m \u001B[38;5;66;03m# 运行主函数\u001B[39;00m\n\u001B[0;32m     79\u001B[0m \u001B[38;5;28;01mif\u001B[39;00m \u001B[38;5;18m__name__\u001B[39m \u001B[38;5;241m==\u001B[39m \u001B[38;5;124m\"\u001B[39m\u001B[38;5;124m__main__\u001B[39m\u001B[38;5;124m\"\u001B[39m:\n\u001B[1;32m---> 80\u001B[0m     \u001B[43mmain\u001B[49m\u001B[43m(\u001B[49m\u001B[43m)\u001B[49m\n",
      "Cell \u001B[1;32mIn[9], line 76\u001B[0m, in \u001B[0;36mmain\u001B[1;34m()\u001B[0m\n\u001B[0;32m     74\u001B[0m model \u001B[38;5;241m=\u001B[39m LinearRegressionModel()\n\u001B[0;32m     75\u001B[0m train_model(model, x, y, learning_rate\u001B[38;5;241m=\u001B[39m\u001B[38;5;241m0.01\u001B[39m, num_epochs\u001B[38;5;241m=\u001B[39m\u001B[38;5;241m100000\u001B[39m)\n\u001B[1;32m---> 76\u001B[0m \u001B[43mplot_results\u001B[49m\u001B[43m(\u001B[49m\u001B[43mx\u001B[49m\u001B[43m,\u001B[49m\u001B[43m \u001B[49m\u001B[43my\u001B[49m\u001B[43m,\u001B[49m\u001B[43m \u001B[49m\u001B[43mmodel\u001B[49m\u001B[43m)\u001B[49m\n",
      "Cell \u001B[1;32mIn[9], line 61\u001B[0m, in \u001B[0;36mplot_results\u001B[1;34m(x, y, model)\u001B[0m\n\u001B[0;32m     59\u001B[0m model\u001B[38;5;241m.\u001B[39meval()\n\u001B[0;32m     60\u001B[0m \u001B[38;5;28;01mwith\u001B[39;00m torch\u001B[38;5;241m.\u001B[39mno_grad():\n\u001B[1;32m---> 61\u001B[0m     predictions \u001B[38;5;241m=\u001B[39m \u001B[43mmodel\u001B[49m\u001B[43m(\u001B[49m\u001B[43mx\u001B[49m\u001B[43m)\u001B[49m\u001B[38;5;241;43m.\u001B[39;49m\u001B[43mnumpy\u001B[49m\u001B[43m(\u001B[49m\u001B[43m)\u001B[49m\n\u001B[0;32m     62\u001B[0m plt\u001B[38;5;241m.\u001B[39mscatter(x\u001B[38;5;241m.\u001B[39mnumpy(), y\u001B[38;5;241m.\u001B[39mnumpy(), label\u001B[38;5;241m=\u001B[39m\u001B[38;5;124m'\u001B[39m\u001B[38;5;124mData\u001B[39m\u001B[38;5;124m'\u001B[39m)\n\u001B[0;32m     63\u001B[0m plt\u001B[38;5;241m.\u001B[39mplot(x\u001B[38;5;241m.\u001B[39mnumpy(), predictions, color\u001B[38;5;241m=\u001B[39m\u001B[38;5;124m'\u001B[39m\u001B[38;5;124mred\u001B[39m\u001B[38;5;124m'\u001B[39m, label\u001B[38;5;241m=\u001B[39m\u001B[38;5;124m'\u001B[39m\u001B[38;5;124mFitted line\u001B[39m\u001B[38;5;124m'\u001B[39m)\n",
      "\u001B[1;31mRuntimeError\u001B[0m: Numpy is not available"
     ]
    }
   ],
   "execution_count": 9
  }
 ],
 "metadata": {
  "kernelspec": {
   "display_name": "Python 3",
   "language": "python",
   "name": "python3"
  },
  "language_info": {
   "codemirror_mode": {
    "name": "ipython",
    "version": 2
   },
   "file_extension": ".py",
   "mimetype": "text/x-python",
   "name": "python",
   "nbconvert_exporter": "python",
   "pygments_lexer": "ipython2",
   "version": "2.7.6"
  }
 },
 "nbformat": 4,
 "nbformat_minor": 5
}
