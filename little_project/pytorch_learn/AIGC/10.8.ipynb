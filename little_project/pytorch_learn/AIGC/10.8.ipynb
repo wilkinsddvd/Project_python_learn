{
 "cells": [
  {
   "metadata": {},
   "cell_type": "markdown",
   "source": "",
   "id": "a1ee942cc9a8be7"
  },
  {
   "metadata": {
    "ExecuteTime": {
     "end_time": "2024-10-15T12:46:52.264023Z",
     "start_time": "2024-10-15T12:46:52.239232Z"
    }
   },
   "cell_type": "code",
   "source": [
    "import torch\n",
    "from tensorflow.python.autograph.lang.special_functions import tensor_list\n",
    "from tensorflow.python.autograph.pyct.static_analysis.reaching_fndefs import resolve\n",
    "\n",
    "x = torch.arange(12)\n",
    "print(x)\n",
    "\n",
    "x = x.reshape(3, 4)\n",
    "print(x)\n",
    "\n",
    "x = torch.zeros((2, 3, 4))\n",
    "print(x)\n",
    "\n",
    "x = torch.ones((2, 3, 4))\n",
    "print(x)\n",
    "\n",
    "x = torch.tensor([[2,1,4,3], [1,2,3,4], [4,3,2,1]])\n",
    "print(x)\n",
    "\n",
    "x = torch.tensor([1,0,2,4,8])\n",
    "y = torch.tensor([2,2,2,2])\n",
    "\n",
    "# x = torch.arange(12, dtype=torch.float32),rehape((3,4))\n",
    "y = torch.tensor([[2,0,1,4], [1,2,3,4],[4,3,2,1]])\n",
    "\n",
    "# x = x.sum()\n",
    "# print(x)\n",
    "\n",
    "# a =torch.arange(3), reshape((1,3))\n",
    "# print(a)\n",
    "\n",
    "# x[-1],x[1:3]\n",
    "\n",
    "# x[0:2,:] = 12\n",
    "# x\n"
   ],
   "id": "initial_id",
   "outputs": [
    {
     "name": "stdout",
     "output_type": "stream",
     "text": [
      "tensor([ 0,  1,  2,  3,  4,  5,  6,  7,  8,  9, 10, 11])\n",
      "tensor([[ 0,  1,  2,  3],\n",
      "        [ 4,  5,  6,  7],\n",
      "        [ 8,  9, 10, 11]])\n",
      "tensor([[[0., 0., 0., 0.],\n",
      "         [0., 0., 0., 0.],\n",
      "         [0., 0., 0., 0.]],\n",
      "\n",
      "        [[0., 0., 0., 0.],\n",
      "         [0., 0., 0., 0.],\n",
      "         [0., 0., 0., 0.]]])\n",
      "tensor([[[1., 1., 1., 1.],\n",
      "         [1., 1., 1., 1.],\n",
      "         [1., 1., 1., 1.]],\n",
      "\n",
      "        [[1., 1., 1., 1.],\n",
      "         [1., 1., 1., 1.],\n",
      "         [1., 1., 1., 1.]]])\n",
      "tensor([[2, 1, 4, 3],\n",
      "        [1, 2, 3, 4],\n",
      "        [4, 3, 2, 1]])\n"
     ]
    }
   ],
   "execution_count": 10
  }
 ],
 "metadata": {
  "kernelspec": {
   "display_name": "Python 3 (ipykernel)",
   "language": "python",
   "name": "python3"
  },
  "language_info": {
   "codemirror_mode": {
    "name": "ipython",
    "version": 3
   },
   "file_extension": ".py",
   "mimetype": "text/x-python",
   "name": "python",
   "nbconvert_exporter": "python",
   "pygments_lexer": "ipython3",
   "version": "3.9.19"
  }
 },
 "nbformat": 4,
 "nbformat_minor": 5
}
