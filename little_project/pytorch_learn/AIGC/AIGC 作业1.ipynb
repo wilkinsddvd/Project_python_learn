{
 "cells": [
  {
   "cell_type": "code",
   "id": "initial_id",
   "metadata": {
    "collapsed": true,
    "ExecuteTime": {
     "end_time": "2024-10-15T13:36:21.259937Z",
     "start_time": "2024-10-15T13:36:21.236769Z"
    }
   },
   "source": [
    "# 1. 导入必要的库\n",
    "import torch\n",
    "import numpy as np\n",
    "\n",
    "# 2. 随机生成矩阵A和向量b\n",
    "# 假设我们想要一个3x3的方程组\n",
    "A = np.random.rand(3, 3)\n",
    "b = np.random.rand(3, 1)\n",
    "\n",
    "# 3. 使用PyTorch创建对应的张量\n",
    "A_torch = torch.tensor(A, dtype=torch.float32)\n",
    "b_torch = torch.tensor(b, dtype=torch.float32)\n",
    "\n",
    "# 4. 使用PyTorch的线性代数功能求解线性方程组\n",
    "x_torch = torch.linalg.solve(A_torch, b_torch)\n",
    "\n",
    "# 打印结果\n",
    "print(\"The solution vector x is:\")\n",
    "print(x_torch)"
   ],
   "outputs": [
    {
     "name": "stdout",
     "output_type": "stream",
     "text": [
      "The solution vector x is:\n",
      "tensor([[ 0.9397],\n",
      "        [-0.8927],\n",
      "        [ 0.7756]])\n"
     ]
    }
   ],
   "execution_count": 14
  }
 ],
 "metadata": {
  "kernelspec": {
   "display_name": "Python 3",
   "language": "python",
   "name": "python3"
  },
  "language_info": {
   "codemirror_mode": {
    "name": "ipython",
    "version": 2
   },
   "file_extension": ".py",
   "mimetype": "text/x-python",
   "name": "python",
   "nbconvert_exporter": "python",
   "pygments_lexer": "ipython2",
   "version": "2.7.6"
  }
 },
 "nbformat": 4,
 "nbformat_minor": 5
}
